{
 "cells": [
  {
   "cell_type": "code",
   "execution_count": 1,
   "id": "69cfacad",
   "metadata": {},
   "outputs": [],
   "source": [
    "import pandas as pd\n",
    "import os"
   ]
  },
  {
   "cell_type": "code",
   "execution_count": 2,
   "id": "0087b20f",
   "metadata": {},
   "outputs": [],
   "source": [
    "df = pd.read_csv(\"temp_data.csv\")"
   ]
  },
  {
   "cell_type": "code",
   "execution_count": 3,
   "id": "b0785668",
   "metadata": {},
   "outputs": [
    {
     "name": "stdout",
     "output_type": "stream",
     "text": [
      "(1235, 27)\n",
      "SentAt             0\n",
      "StartedAt        691\n",
      "Control          691\n",
      "Sad              691\n",
      "Intrusion        691\n",
      "Encourage        691\n",
      "FunThings        691\n",
      "IgotThis         691\n",
      "Company          691\n",
      "Alone            691\n",
      "Thoughts         691\n",
      "Safe             691\n",
      "Appointments     691\n",
      "Cancel           691\n",
      "Laying           691\n",
      "Sleep            691\n",
      "Qualitysleep    1072\n",
      "Out              691\n",
      "Eaten            691\n",
      "Avoid            691\n",
      "Useful           691\n",
      "Enjoy            691\n",
      "Pleas            691\n",
      "Pleasant        1076\n",
      "Unpl             691\n",
      "Unpleasant      1211\n",
      "Remarks         1087\n",
      "dtype: int64\n",
      "Index(['SentAt', 'StartedAt', 'Control', 'Sad', 'Intrusion', 'Encourage',\n",
      "       'FunThings', 'IgotThis', 'Company', 'Alone', 'Thoughts', 'Safe',\n",
      "       'Appointments', 'Cancel', 'Laying', 'Sleep', 'Qualitysleep', 'Out',\n",
      "       'Eaten', 'Avoid', 'Useful ', 'Enjoy', 'Pleas', 'Pleasant', 'Unpl',\n",
      "       'Unpleasant', 'Remarks'],\n",
      "      dtype='object')\n"
     ]
    }
   ],
   "source": [
    "print(df.shape)\n",
    "print(df.isna().sum())\n",
    "print(df.columns)"
   ]
  },
  {
   "cell_type": "code",
   "execution_count": 4,
   "id": "04121dcd",
   "metadata": {},
   "outputs": [],
   "source": [
    "#make idvar\n",
    "df['id_var'] = 1\n",
    "#make date\n",
    "df['Date'] = pd.to_datetime(df['SentAt'], format = '%d/%m/%Y %H:%M')\n",
    "#get the date and hour\n",
    "df['Date_2'] = [d.strftime(\"%x\") for d in df['Date']]\n",
    "df['Hour'] = [d.strftime(\"%H\") for d in df['Date']]"
   ]
  },
  {
   "cell_type": "code",
   "execution_count": 5,
   "id": "980f8351",
   "metadata": {},
   "outputs": [],
   "source": [
    "#high number of nas so we drop them\n",
    "df = df.drop(columns = ['StartedAt', 'Qualitysleep', 'Pleasant', 'Unpleasant', 'Remarks'])\n",
    "#note that we still capture pleasant and unpleasant through the binary variables"
   ]
  },
  {
   "cell_type": "code",
   "execution_count": 6,
   "id": "1b5457e0",
   "metadata": {},
   "outputs": [],
   "source": [
    "#therefore we drop all observations (rows) that are incomplete\n",
    "to_drop =  ['Control', 'Sad', 'Intrusion', 'Encourage',\n",
    "       'FunThings', 'IgotThis', 'Company', 'Alone', 'Thoughts', 'Safe',\n",
    "       'Appointments', 'Cancel', 'Laying', 'Sleep', 'Out',\n",
    "       'Eaten', 'Avoid', 'Useful ', 'Enjoy', 'Pleas', 'Unpl']\n",
    "#select only rows that have complete data\n",
    "df = df.dropna(subset = to_drop, how = 'any', axis=0)"
   ]
  },
  {
   "cell_type": "code",
   "execution_count": 7,
   "id": "291a6fff",
   "metadata": {},
   "outputs": [],
   "source": [
    "##below we create a beep_var - i.e. a unique identifier for the 'beep' for a given day. Required for graphicalvar.\n",
    "#Groupings are because the timing of survey completion changes during the period examined.\n",
    "df['first_obs'] = [1 if (x == '09' or x == '10') else 0 for x in df['Hour']]\n",
    "df['second_obs'] = [2 if (x == '15' or x == '16') else 0 for x in df['Hour']]\n",
    "df['third_obs'] = [3 if (x == '21' or x == '22') else 0 for x in df['Hour']]\n",
    "df['beep_var'] = df['first_obs'] + df['second_obs'] + df['third_obs']\n",
    "\n",
    "#below we create a day_var - i.e. a unique identifier for the day of completion. Required for graphicalvar. \n",
    "day_var = pd.DataFrame(pd.date_range(df['Date'].min(), df['Date'].max()))\n",
    "day_var.columns = ['Date_Range']\n",
    "day_var['day_var'] = [d.strftime(\"%x\") for d in day_var['Date_Range']]\n",
    "day_var = day_var.drop('Date_Range', axis = 1).reset_index()\n",
    "df = df.merge(day_var, how = 'left', left_on = 'Date_2', right_on = 'day_var')\n",
    "\n",
    "\n",
    "#order by date\n",
    "df = df.sort_values(by='Date')"
   ]
  },
  {
   "cell_type": "code",
   "execution_count": 8,
   "id": "aefbf985",
   "metadata": {},
   "outputs": [
    {
     "name": "stdout",
     "output_type": "stream",
     "text": [
      "6.0\n"
     ]
    }
   ],
   "source": [
    "#clean by dropping unnecessary columns and renaming columns\n",
    "df = df.drop(['first_obs', 'second_obs', 'third_obs', 'day_var'], axis = 1)\n",
    "#rename index to day_var\n",
    "df = df.rename(columns = {'index': 'day_var'})\n",
    "#investigate\n",
    "df['consecutive'] = df['day_var'].diff()\n",
    "#because R doesn't start from -\n",
    "df['day_var'] = df['day_var']  + 1\n",
    "#conver variables to string\n",
    "#df['day_var'] = df['day_var'].astype(str)\n",
    "#df['id_var'] = df['id_var'].astype(str)\n",
    "#df['beep_var'] = df['beep_var'].astype(str)\n",
    "#print max gap between days\n",
    "print(df['consecutive'].max())"
   ]
  },
  {
   "cell_type": "code",
   "execution_count": null,
   "id": "c8914861",
   "metadata": {},
   "outputs": [],
   "source": [
    "#check if the nas are just empty observations for all variables\n",
    "na_count = [df.iloc[x, :].isna().sum() for x in range(0, len(df))]\n",
    "pd.Series(na_count).value_counts()\n",
    "#yes they are"
   ]
  },
  {
   "cell_type": "code",
   "execution_count": null,
   "id": "c56a9ea0",
   "metadata": {},
   "outputs": [],
   "source": [
    "df.to_csv('ESM_all.csv')"
   ]
  },
  {
   "cell_type": "code",
   "execution_count": null,
   "id": "c975f445",
   "metadata": {},
   "outputs": [],
   "source": [
    "# Given the missingness in the data, we simply subselect for the first observation (beep) recorded on a given day\n",
    "df_first = df.drop_duplicates(subset='day_var', keep='first', inplace=False, ignore_index=False)\n",
    "df_first['consecutive'] = df_first['day_var'].diff()\n",
    "#check which beeps we are actually using\n",
    "df_first['beep_var'].value_counts()"
   ]
  },
  {
   "cell_type": "code",
   "execution_count": null,
   "id": "365917bc",
   "metadata": {},
   "outputs": [],
   "source": [
    "df_first['beep_var_consecutive'] = df_first['beep_var'].diff()\n",
    "df_first['beep_var_consecutive'].value_counts()"
   ]
  },
  {
   "cell_type": "code",
   "execution_count": null,
   "id": "de43dc0c",
   "metadata": {},
   "outputs": [],
   "source": [
    "df_first.shape"
   ]
  },
  {
   "cell_type": "code",
   "execution_count": null,
   "id": "a52efa47",
   "metadata": {},
   "outputs": [],
   "source": [
    "df_first.to_csv('ESM_first.csv')"
   ]
  }
 ],
 "metadata": {
  "kernelspec": {
   "display_name": "Python 3 (ipykernel)",
   "language": "python",
   "name": "python3"
  },
  "language_info": {
   "codemirror_mode": {
    "name": "ipython",
    "version": 3
   },
   "file_extension": ".py",
   "mimetype": "text/x-python",
   "name": "python",
   "nbconvert_exporter": "python",
   "pygments_lexer": "ipython3",
   "version": "3.9.5"
  }
 },
 "nbformat": 4,
 "nbformat_minor": 5
}
