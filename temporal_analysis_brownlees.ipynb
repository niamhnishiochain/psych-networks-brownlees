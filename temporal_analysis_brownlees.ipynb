{
 "cells": [
  {
   "cell_type": "code",
   "execution_count": 1,
   "id": "69cfacad",
   "metadata": {},
   "outputs": [],
   "source": [
    "import pandas as pd\n",
    "import os"
   ]
  },
  {
   "cell_type": "code",
   "execution_count": 2,
   "id": "0087b20f",
   "metadata": {},
   "outputs": [],
   "source": [
    "df = pd.read_csv(\"temp_data.csv\")"
   ]
  },
  {
   "cell_type": "code",
   "execution_count": 26,
   "id": "cb356ae1",
   "metadata": {},
   "outputs": [
    {
     "data": {
      "text/plain": [
       "Index(['SentAt', 'Control', 'Sad', 'Intrusion', 'Encourage', 'FunThings',\n",
       "       'IgotThis', 'Company', 'Alone', 'Thoughts', 'Safe', 'Appointments',\n",
       "       'Cancel', 'Laying', 'Sleep', 'Out', 'Eaten', 'Avoid', 'Useful ',\n",
       "       'Enjoy', 'Pleas', 'Unpl', 'id_var', 'Date', 'Date_2', 'Hour',\n",
       "       'beep_var', 'day_var', 'consecutive'],\n",
       "      dtype='object')"
      ]
     },
     "execution_count": 26,
     "metadata": {},
     "output_type": "execute_result"
    }
   ],
   "source": [
    "df.columns"
   ]
  },
  {
   "cell_type": "code",
   "execution_count": 4,
   "id": "b0785668",
   "metadata": {},
   "outputs": [
    {
     "name": "stdout",
     "output_type": "stream",
     "text": [
      "(1235, 27)\n",
      "SentAt             0\n",
      "StartedAt        691\n",
      "Control          691\n",
      "Sad              691\n",
      "Intrusion        691\n",
      "Encourage        691\n",
      "FunThings        691\n",
      "IgotThis         691\n",
      "Company          691\n",
      "Alone            691\n",
      "Thoughts         691\n",
      "Safe             691\n",
      "Appointments     691\n",
      "Cancel           691\n",
      "Laying           691\n",
      "Sleep            691\n",
      "Qualitysleep    1072\n",
      "Out              691\n",
      "Eaten            691\n",
      "Avoid            691\n",
      "Useful           691\n",
      "Enjoy            691\n",
      "Pleas            691\n",
      "Pleasant        1076\n",
      "Unpl             691\n",
      "Unpleasant      1211\n",
      "Remarks         1087\n",
      "dtype: int64\n",
      "Index(['SentAt', 'StartedAt', 'Control', 'Sad', 'Intrusion', 'Encourage',\n",
      "       'FunThings', 'IgotThis', 'Company', 'Alone', 'Thoughts', 'Safe',\n",
      "       'Appointments', 'Cancel', 'Laying', 'Sleep', 'Qualitysleep', 'Out',\n",
      "       'Eaten', 'Avoid', 'Useful ', 'Enjoy', 'Pleas', 'Pleasant', 'Unpl',\n",
      "       'Unpleasant', 'Remarks'],\n",
      "      dtype='object')\n"
     ]
    }
   ],
   "source": [
    "print(df.shape)\n",
    "print(df.isna().sum())\n",
    "print(df.columns)"
   ]
  },
  {
   "cell_type": "code",
   "execution_count": 5,
   "id": "980f8351",
   "metadata": {},
   "outputs": [],
   "source": [
    "df = df.drop(columns = ['StartedAt', 'Qualitysleep', 'Pleasant', 'Unpleasant', 'Remarks'])"
   ]
  },
  {
   "cell_type": "code",
   "execution_count": 6,
   "id": "1b5457e0",
   "metadata": {},
   "outputs": [],
   "source": [
    "#drop all observations hich have all missing except for SentAt\n",
    "to_drop =  ['Control', 'Sad', 'Intrusion', 'Encourage',\n",
    "       'FunThings', 'IgotThis', 'Company', 'Alone', 'Thoughts', 'Safe',\n",
    "       'Appointments', 'Cancel', 'Laying', 'Sleep', 'Out',\n",
    "       'Eaten', 'Avoid', 'Useful ', 'Enjoy', 'Pleas', 'Unpl']\n",
    "\n",
    "df = df.dropna(subset = to_drop, how = 'any', axis=0)"
   ]
  },
  {
   "cell_type": "code",
   "execution_count": 7,
   "id": "04121dcd",
   "metadata": {},
   "outputs": [],
   "source": [
    "#make idvar\n",
    "df['id_var'] = 1\n",
    "#make date\n",
    "df['Date'] = pd.to_datetime(df['SentAt'], format = '%d/%m/%Y %H:%M')\n",
    "#get the date and hour\n",
    "df['Date_2'] = [d.strftime(\"%x\") for d in df['Date']]\n",
    "df['Hour'] = [d.strftime(\"%H\") for d in df['Date']]\n",
    "#make the beepvar required for graphicalvar\n",
    "df['first_obs'] = [1 if (x == '09' or x == '10') else 0 for x in df['Hour']]\n",
    "df['second_obs'] = [2 if (x == '15' or x == '16') else 0 for x in df['Hour']]\n",
    "df['third_obs'] = [3 if (x == '21' or x == '22') else 0 for x in df['Hour']]\n",
    "df['beep_var'] = df['first_obs'] + df['second_obs'] + df['third_obs']\n",
    "#order by date\n",
    "df = df.sort_values(by='Date')"
   ]
  },
  {
   "cell_type": "code",
   "execution_count": 8,
   "id": "624f76ec",
   "metadata": {},
   "outputs": [],
   "source": [
    "#make day_var\n",
    "day_var = pd.DataFrame(pd.date_range(df['Date'].min(), df['Date'].max()))\n",
    "day_var.columns = ['Date_Range']\n",
    "day_var['day_var'] = [d.strftime(\"%x\") for d in day_var['Date_Range']]\n",
    "day_var = day_var.drop('Date_Range', axis = 1).reset_index()\n",
    "df = df.merge(day_var, how = 'left', left_on = 'Date_2', right_on = 'day_var')"
   ]
  },
  {
   "cell_type": "code",
   "execution_count": 9,
   "id": "db403394",
   "metadata": {},
   "outputs": [],
   "source": [
    "#clean by dropping unnecessary columns and renaming columns\n",
    "df = df.drop(['first_obs', 'second_obs', 'third_obs', 'day_var'], axis = 1)\n",
    "#rename index to day_var\n",
    "df = df.rename(columns = {'index': 'day_var'})\n",
    "#investigate\n",
    "df['consecutive'] = df['day_var'].diff()\n",
    "#because R doesn't start from -\n",
    "df['day_var'] = df['day_var']  + 1\n",
    "#conver variables to string\n",
    "#df['day_var'] = df['day_var'].astype(str)\n",
    "#df['id_var'] = df['id_var'].astype(str)\n",
    "#df['beep_var'] = df['beep_var'].astype(str)"
   ]
  },
  {
   "cell_type": "code",
   "execution_count": 14,
   "id": "503f81a3",
   "metadata": {},
   "outputs": [
    {
     "name": "stderr",
     "output_type": "stream",
     "text": [
      "/var/folders/2g/qx04w6j525l446ptr2wd9w8w0000gn/T/ipykernel_1109/3282089736.py:2: SettingWithCopyWarning: \n",
      "A value is trying to be set on a copy of a slice from a DataFrame.\n",
      "Try using .loc[row_indexer,col_indexer] = value instead\n",
      "\n",
      "See the caveats in the documentation: https://pandas.pydata.org/pandas-docs/stable/user_guide/indexing.html#returning-a-view-versus-a-copy\n",
      "  df_beep_3['consecutive'] = df_beep_3['day_var'].diff()\n"
     ]
    }
   ],
   "source": [
    "df_beep_3 = df[df['beep_var'] == 3]\n",
    "df_beep_3['consecutive'] = df_beep_3['day_var'].diff()"
   ]
  },
  {
   "cell_type": "code",
   "execution_count": 21,
   "id": "f4f14a9e",
   "metadata": {},
   "outputs": [],
   "source": [
    "df_beep_3.to_csv('df_beep_3.csv')"
   ]
  },
  {
   "cell_type": "code",
   "execution_count": 24,
   "id": "da17171e",
   "metadata": {},
   "outputs": [
    {
     "data": {
      "text/plain": [
       "2      NaN\n",
       "5      1.0\n",
       "7      1.0\n",
       "10     1.0\n",
       "12     1.0\n",
       "14     1.0\n",
       "19     2.0\n",
       "22     1.0\n",
       "25     1.0\n",
       "28     2.0\n",
       "31     1.0\n",
       "34     1.0\n",
       "36     1.0\n",
       "38     1.0\n",
       "40     1.0\n",
       "43     1.0\n",
       "46     1.0\n",
       "48     1.0\n",
       "51     2.0\n",
       "54     1.0\n",
       "57     1.0\n",
       "59     1.0\n",
       "61     1.0\n",
       "64     1.0\n",
       "67     1.0\n",
       "69     1.0\n",
       "72     1.0\n",
       "74     1.0\n",
       "75     1.0\n",
       "78     1.0\n",
       "80     1.0\n",
       "83     1.0\n",
       "86     1.0\n",
       "88     1.0\n",
       "90     1.0\n",
       "93     1.0\n",
       "95     1.0\n",
       "99     2.0\n",
       "102    1.0\n",
       "104    1.0\n",
       "108    2.0\n",
       "110    1.0\n",
       "113    2.0\n",
       "116    1.0\n",
       "124    4.0\n",
       "127    1.0\n",
       "130    1.0\n",
       "132    1.0\n",
       "137    4.0\n",
       "138    1.0\n",
       "Name: consecutive, dtype: float64"
      ]
     },
     "execution_count": 24,
     "metadata": {},
     "output_type": "execute_result"
    }
   ],
   "source": [
    "df_beep_3['consecutive'].head(50)"
   ]
  },
  {
   "cell_type": "code",
   "execution_count": null,
   "id": "58dd3ac2",
   "metadata": {},
   "outputs": [],
   "source": [
    "df.dtypes"
   ]
  },
  {
   "cell_type": "code",
   "execution_count": 32,
   "id": "4a58483a",
   "metadata": {},
   "outputs": [],
   "source": [
    "github_issue = df[['SentAt', 'Control', 'Sad', 'Intrusion', 'Encourage', \n",
    "         'FunThings', 'IgotThis', 'Alone', 'Thoughts', \n",
    "         'Appointments', 'Laying',\n",
    "         'Out', 'Eaten', 'Avoid', 'Useful ', 'Enjoy', 'day_var', 'beep_var', 'id_var']]"
   ]
  },
  {
   "cell_type": "code",
   "execution_count": 33,
   "id": "370cd265",
   "metadata": {},
   "outputs": [],
   "source": [
    "github_issue.to_csv('ESM_data_github_issue.csv')"
   ]
  },
  {
   "cell_type": "code",
   "execution_count": null,
   "id": "92f526f1",
   "metadata": {},
   "outputs": [],
   "source": [
    "print(df.shape)\n",
    "print(df.isna().sum().sum())\n",
    "print(df.columns)"
   ]
  },
  {
   "cell_type": "code",
   "execution_count": null,
   "id": "800759f6",
   "metadata": {},
   "outputs": [],
   "source": [
    "\n",
    "#first = 16/03/2017\n",
    "#last = 27/04/2018\n",
    "# just over a year in scope\n",
    "# note that we have 544 obs but not evenly spaces out"
   ]
  },
  {
   "cell_type": "code",
   "execution_count": null,
   "id": "5737fdb3",
   "metadata": {},
   "outputs": [],
   "source": [
    "df.head()"
   ]
  }
 ],
 "metadata": {
  "kernelspec": {
   "display_name": "Python 3 (ipykernel)",
   "language": "python",
   "name": "python3"
  },
  "language_info": {
   "codemirror_mode": {
    "name": "ipython",
    "version": 3
   },
   "file_extension": ".py",
   "mimetype": "text/x-python",
   "name": "python",
   "nbconvert_exporter": "python",
   "pygments_lexer": "ipython3",
   "version": "3.9.5"
  }
 },
 "nbformat": 4,
 "nbformat_minor": 5
}
